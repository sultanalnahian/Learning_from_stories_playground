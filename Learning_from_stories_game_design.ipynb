{
 "cells": [
  {
   "cell_type": "code",
   "execution_count": 1,
   "metadata": {},
   "outputs": [],
   "source": [
    "import textworld\n",
    "from textworld import GameMaker\n",
    "from textworld.generator.data import KnowledgeBase\n",
    "from textworld.generator.game import Event, Quest\n",
    "from textworld.generator.game import GameOptions\n",
    "\n",
    "# Make the generation process reproducible.\n",
    "from textworld import g_rng  # Global random generator.\n",
    "g_rng.set_seed(20180916)"
   ]
  },
  {
   "cell_type": "code",
   "execution_count": 2,
   "metadata": {},
   "outputs": [],
   "source": [
    "from textworld.generator import compile_game\n",
    "import io\n",
    "import sys\n",
    "import contextlib\n",
    "import numpy as np"
   ]
  },
  {
   "cell_type": "code",
   "execution_count": null,
   "metadata": {},
   "outputs": [],
   "source": []
  },
  {
   "cell_type": "code",
   "execution_count": 3,
   "metadata": {},
   "outputs": [],
   "source": [
    "# GameMaker object for handcrafting text-based games.\n",
    "# M = GameMaker()"
   ]
  },
  {
   "cell_type": "code",
   "execution_count": null,
   "metadata": {},
   "outputs": [],
   "source": []
  },
  {
   "cell_type": "markdown",
   "metadata": {},
   "source": [
    "# Defining the layout of the world"
   ]
  },
  {
   "cell_type": "code",
   "execution_count": 4,
   "metadata": {},
   "outputs": [],
   "source": [
    "def get_game_maker():\n",
    "    M = GameMaker()\n",
    "    roomA = M.new_room(\"Room A\")\n",
    "    alley = M.new_room(\"Alley\")\n",
    "    bank1 = M.new_room(\"Bank1\")\n",
    "    bank2 = M.new_room(\"Bank2\")\n",
    "    bank3 = M.new_room(\"Bank3\")\n",
    "    corridor = M.connect(roomA.east, alley.west)\n",
    "    corridor1 = M.connect(alley.east, bank1.west)\n",
    "    corridor1 = M.connect(alley.north, bank2.south)\n",
    "    corridor1 = M.connect(alley.south, bank3.north)\n",
    "    M.set_player(roomA)\n",
    "    \n",
    "    roomA.infos.desc = \"You are in a road. Some mobs are planning to rob a bank. You need to stop them. Go east to the alley. You can find a person in the alley who has information about the roberry. Collect information from him and prevent the roberry.\"\n",
    "    alley.infos.desc = \"There is a person beside the table in the alley. You can find an oven here as well.\"\n",
    "    supporter = M.new(type='s', name = \"table\")  # When not provided, names are automatically generated.\n",
    "    alley.add(supporter)  # Supporters are fixed in place.\n",
    "    supporter.infos.desc = \"It is a metal sturdy table. There are some food on the table\"\n",
    "    food = M.new(type=\"f\", name = 'carrot') \n",
    "    food.infos.desc = \"It's carrot\"\n",
    "    stove = M.new(type=\"oven\", name = \"oven\")\n",
    "    stove.infos.desc = \"this is an oven. you can cook your food\"\n",
    "    supporter.add(food)  # When added directly to a room, portable objects are put on the floor.\n",
    "    #supporter.add(stove)\n",
    "    alley.add(stove)\n",
    "    person = M.new(type=\"pr\", name = \"informant\")\n",
    "    person.infos.desc = \"This person knows about the bank roberry. Do a favor for him. He will help you.\"\n",
    "    M.add_fact(\"not_asked\", person)\n",
    "    alley.add(person)\n",
    "    M.add_fact(\"raw\",food)\n",
    "    robber = M.new(type=\"rbr\", name = \"joker\")\n",
    "    bank2.add(robber)\n",
    "    M.add_fact(\"not_stopped\", robber)\n",
    "    M.render()\n",
    "    return M"
   ]
  },
  {
   "cell_type": "code",
   "execution_count": 5,
   "metadata": {},
   "outputs": [],
   "source": [
    "def get_game_maker_1():\n",
    "    M = GameMaker()\n",
    "    roomA = M.new_room(\"Room A\")\n",
    "    alley = M.new_room(\"Alley\")\n",
    "    bank1 = M.new_room(\"Bank1\")\n",
    "    bank2 = M.new_room(\"Bank2\")\n",
    "    bank3 = M.new_room(\"Bank3\")\n",
    "#     police_station = M.new_room(\"Police Station\")\n",
    "    corridor = M.connect(roomA.east, alley.west)\n",
    "    corridor1 = M.connect(alley.east, bank1.west)\n",
    "    corridor2 = M.connect(alley.north, bank2.south)\n",
    "    corridor3 = M.connect(alley.south, bank3.north)\n",
    "    \n",
    "#     corridor4 = M.connect(roomA.west, police_station.east)\n",
    "    #door = M.new_door(corridor4, name=\"door\")  # Door and room have their own \"new\" method, no need to provide the type.\n",
    "    #M.add_fact(\"locked\", door)\n",
    "    \n",
    "    M.set_player(roomA)\n",
    "    \n",
    "    roomA.infos.desc = \"You are in a road. Some mobs are planning to rob a bank. You need to stop them. Go east to the alley. You can find a person in the alley who has information about the roberry. Collect information from him and prevent the roberry.\"\n",
    "    alley.infos.desc = \"This is the alley. There is a person beside the table. You can find an oven here as well.\"\n",
    "    \n",
    "    money = M.new(type=\"o\", name = 'money') \n",
    "    money.infos.desc = \"it is money\"\n",
    "    M.inventory.add(money) \n",
    "    person = M.new(type=\"pr\", name = \"informant\")\n",
    "    person.infos.desc = \"This person knows about the bank roberry. Do a favor for him. He will help you.\"\n",
    "    M.add_fact(\"not_asked\", person)\n",
    "    M.add_fact(\"not_given\", person)\n",
    "    alley.add(person)\n",
    "    \n",
    "    robber = M.new(type=\"rbr\", name = \"joker\")\n",
    "    bank2.add(robber)\n",
    "    M.add_fact(\"not_stopped\", robber)\n",
    "    M.add_fact(\"not_allowed\", robber)\n",
    "    police = M.new(type=\"pl\", name = \"police\")\n",
    "    bank2.add(police)\n",
    "    M.add_fact(\"not_called\", police)\n",
    "#     M.add_fact(\"not_called\", robber)\n",
    "    M.render()\n",
    "    return M"
   ]
  },
  {
   "cell_type": "code",
   "execution_count": 6,
   "metadata": {},
   "outputs": [],
   "source": [
    "# M = get_game_maker_1()\n",
    "# quest = M.record_quest()"
   ]
  },
  {
   "cell_type": "code",
   "execution_count": null,
   "metadata": {},
   "outputs": [],
   "source": []
  },
  {
   "cell_type": "code",
   "execution_count": null,
   "metadata": {},
   "outputs": [],
   "source": []
  },
  {
   "cell_type": "code",
   "execution_count": 7,
   "metadata": {},
   "outputs": [],
   "source": [
    "@contextlib.contextmanager\n",
    "def capture_stdout():\n",
    "    # Capture stdout.\n",
    "    stdout_bak = sys.stdout\n",
    "    sys.stdout = out = io.StringIO()\n",
    "    try:\n",
    "        yield out\n",
    "    finally:\n",
    "        # Restore stdout\n",
    "        sys.stdout = stdout_bak\n",
    "\n",
    "\n",
    "def _compile_test_game(game):\n",
    "    grammar_flags = {\n",
    "        \"theme\": \"house\",\n",
    "        \"include_adj\": False,\n",
    "        \"only_last_action\": True,\n",
    "        \"blend_instructions\": True,\n",
    "        \"blend_descriptions\": True,\n",
    "        \"refer_by_name_only\": True,\n",
    "        \"instruction_extension\": []\n",
    "    }\n",
    "    rng_grammar = np.random.RandomState(1234)\n",
    "    grammar = textworld.generator.make_grammar(grammar_flags, rng=rng_grammar)\n",
    "    game.change_grammar(grammar)\n",
    "\n",
    "    game_file = textworld.generator.compile_game(game)\n",
    "    return game_file\n",
    "\n",
    "\n",
    "def build_and_compile_no_quest_game(options: GameOptions):\n",
    "    M = textworld.GameMaker()\n",
    "\n",
    "    room = M.new_room()\n",
    "    M.set_player(room)\n",
    "    item = M.new(type=\"o\")\n",
    "    room.add(item)\n",
    "    game = M.build()\n",
    "\n",
    "    game_file = _compile_test_game(game, options)\n",
    "    return game, game_file\n",
    "\n",
    "def build_and_compile_super_hero_game_1():\n",
    "    M = GameMaker()\n",
    "    roomA = M.new_room(\"Room A\")\n",
    "    alley = M.new_room(\"Alley\")\n",
    "    bank1 = M.new_room(\"Bank1\")\n",
    "    bank2 = M.new_room(\"Bank2\")\n",
    "    bank3 = M.new_room(\"Bank3\")\n",
    "    corridor = M.connect(roomA.east, alley.west)\n",
    "    corridor1 = M.connect(alley.east, bank1.west)\n",
    "    corridor1 = M.connect(alley.north, bank2.south)\n",
    "    corridor1 = M.connect(alley.south, bank3.north)\n",
    "    M.set_player(roomA)\n",
    "    \n",
    "    roomA.infos.desc = \"You are in a road. Some mobs are planning to rob a bank. You need to stop them. Go east to the alley. You can find a person in the alley who has information about the roberry. Collect information from him and prevent the roberry.\"\n",
    "    alley.infos.desc = \"This is an alley. There is a person beside the table. He knows about the bank roberry.\"\n",
    "    bank2.infos.desc = \"This is the north bank. Some robbers are going to rob the bank. You can call the police and try to capture them or convince them to surrender. Or you can also shoot them to stop the robbery.\"\n",
    "    \n",
    "    money = M.new(type=\"o\", name = 'money') \n",
    "    money.infos.desc = \"it is money\"\n",
    "    M.inventory.add(money) \n",
    "    person = M.new(type=\"pr\", name = \"informant\")\n",
    "    person.infos.desc = \"This person knows about the bank roberry. Do a favor for him. He will help you.\"\n",
    "    M.add_fact(\"not_asked\", person)\n",
    "    M.add_fact(\"not_given\", person)\n",
    "    alley.add(person)\n",
    "    \n",
    "    robber = M.new(type=\"rbr\", name = \"joker\")\n",
    "    bank2.add(robber)\n",
    "    M.add_fact(\"not_stopped\", robber)\n",
    "    \n",
    "#     M.add_fact(\"not_conflict\", robber)\n",
    "    M.add_fact(\"not_allowed\", robber)\n",
    "    \n",
    "    police = M.new(type=\"pl\", name = \"police\")\n",
    "    bank2.add(police)\n",
    "    M.add_fact(\"not_called\", police)\n",
    "    \n",
    "    # cooking food quest\n",
    "#     quest1_cmds = [\"go east\", \"take the carrot\", \"cook the carrot\"]\n",
    "#     failed_cmds1 = quest1_cmds + [\"go south\"]\n",
    "#     qst_event_cook_carrot = M.new_event_using_commands(quest1_cmds)\n",
    "#     failed_event_1 = M.new_event_using_commands(failed_cmds1)\n",
    "    \n",
    "#     quest1 = Quest(win_events=[qst_event_cook_carrot],\n",
    "#                    fail_events=[failed_event_1],\n",
    "#                    reward=2)\n",
    "    \n",
    "    #quest1 = Quest(win_events=[qst_event_cook_carrot],\n",
    "    #               reward=2)\n",
    "    \n",
    "    # asking quest\n",
    "    qst_event_asking = Event(conditions={M.new_fact(\"asked\", person)})\n",
    "    quest_asking = Quest(win_events=[qst_event_asking],\n",
    "                      reward=2)\n",
    "    # the wining quest\n",
    "    qst_event_stopped_rob = Event(conditions={M.new_fact(\"asked\", person),\n",
    "                                             M.new_fact(\"stopped\", robber)})\n",
    "    win_quest = Quest(win_events=[qst_event_stopped_rob],\n",
    "                      reward=2)\n",
    "\n",
    "    # 1st failure condition\n",
    "    failed_cmds1 = [\"go east\", \"go south\"]\n",
    "    failed_event1 = M.new_event_using_commands(failed_cmds1)\n",
    "    failed_quest_1 = Quest(win_events=[],\n",
    "                           fail_events=[failed_event1])\n",
    "    \n",
    "    # 2nd failure condition\n",
    "    failed_cmds2 = [\"go east\", \"go east\"]\n",
    "    failed_event2 = M.new_event_using_commands(failed_cmds2)\n",
    "    failed_quest_2 = Quest(win_events=[],\n",
    "                           fail_events=[failed_event2])\n",
    "    \n",
    "    # 3rd failure condition\n",
    "    failed_event3 = Event(conditions={\n",
    "        M.new_fact(\"not_asked\", person),\n",
    "        M.new_fact(\"at\", M._entities['P'], bank2)})\n",
    "    \n",
    "#     failed_cmds3 = [\"go east\", \"go north\"]\n",
    "#     failed_actions = M.new_event_using_commands(failed_cmds3).actions\n",
    "#     failed_event3 = Event(conditions={M.new_fact(\"not_asked\", person)},\n",
    "#                          actions=failed_actions)\n",
    "    failed_quest_3 = Quest(win_events=[],\n",
    "                           fail_events=[failed_event3])\n",
    "    \n",
    "    \n",
    "    failed_event4 = Event(conditions={\n",
    "        M.new_fact(\"allowed\", robber)})\n",
    "    \n",
    "    failed_quest_4 = Quest(win_events=[],\n",
    "                   fail_events=[failed_event4])\n",
    "    \n",
    "\n",
    "    #     quest2 = Quest(win_events=[ask_the_informant],\n",
    "#                    fail_events=[eating_carrot])\n",
    "#     ask_the_informant = Event(conditions={M.new_fact(\"asked\", person)},\n",
    "#                               actions=quest2_actions)\n",
    "#     quest2 = Quest(win_events=[ask_the_informant],\n",
    "#                    fail_events=[eating_carrot])\n",
    "\n",
    "    \n",
    "#     failed_event4 = Event(conditions={\n",
    "#         M.new_fact(\"burned\", food)})\n",
    "#     failed_quest_4 = Quest(win_events=[],\n",
    "#                            fail_events=[failed_event4])\n",
    "    \n",
    "    \n",
    "    \n",
    "#     failed_event_2 = M.new_event_using_commands(failed_cmds2)\n",
    "#     eating_carrot = Event(conditions={M.new_fact(\"consumed\", food)})\n",
    "    \n",
    "#     quest2_cmds =  quest1_cmds + [\"ask the informant\"]\n",
    "#     quest2_actions = M.new_event_using_commands(quest2_cmds).actions\n",
    "#     ask_the_informant = Event(conditions={M.new_fact(\"asked\", person)},\n",
    "#                               actions=quest2_actions)\n",
    "#     quest2 = Quest(win_events=[ask_the_informant],\n",
    "#                    fail_events=[eating_carrot])\n",
    "    \n",
    "#     ask_the_informant = M.new_event_using_commands(quest2_cmds)\n",
    "#     quest2 = Quest(win_events=[ask_the_informant],\n",
    "#                    fail_events=[eating_carrot],\n",
    "#                    reward=2)\n",
    "\n",
    "#     quest3 = Quest(win_events=[],\n",
    "#                    fail_events=[failed_event_2])\n",
    "    \n",
    "#     M.quests = [quest1, win_quest, failed_quest_1, failed_quest_2, failed_quest_3]\n",
    "#     M.quests = [quest1, win_quest, quest_asking, failed_quest_1, failed_quest_2, failed_quest_3]\n",
    "    M.quests = [win_quest, quest_asking, failed_quest_1, failed_quest_2, failed_quest_3, failed_quest_4]\n",
    "    game = M.build()\n",
    "#     game.main_quest = M.new_quest_using_commands(quest2_cmds)\n",
    "    game.main_quest = win_quest\n",
    "    game_file = _compile_test_game(game)\n",
    "    return game, game_file\n",
    "\n",
    "def build_and_compile_super_hero_game():\n",
    "    quest1_cmds = [\"go east\", \"take carrot\", \"cook the carrot\"]\n",
    "    cook_carrot = M.new_event_using_commands(quest1_cmds)\n",
    "    eating_carrot = Event(conditions={M.new_fact(\"consumed\", food)})\n",
    "    quest1 = Quest(win_events=[cook_carrot],\n",
    "                   fail_events=[eating_carrot],\n",
    "                   reward=2)\n",
    "    \n",
    "#     quest2_cmds =  [\"go east\", \"ask the informant\"]\n",
    "    quest2_cmds =  quest1_cmds + [\"ask the informant\"]\n",
    "    quest2_actions = M.new_event_using_commands(quest2_cmds).actions\n",
    "    ask_the_informant = Event(conditions={M.new_fact(\"asked\", person)},\n",
    "                              actions=quest2_actions)\n",
    "    quest2 = Quest(win_events=[ask_the_informant],\n",
    "                   fail_events=[eating_carrot])\n",
    "    \n",
    "#     ask_the_informant = M.new_event_using_commands(quest2_cmds)\n",
    "#     quest2 = Quest(win_events=[ask_the_informant],\n",
    "#                    fail_events=[eating_carrot],\n",
    "#                    reward=2)\n",
    "\n",
    "    M.quests = [quest1, quest2]\n",
    "    game = M.build()\n",
    "#     game.main_quest = M.new_quest_using_commands(quest2_cmds)\n",
    "    game.main_quest = quest2\n",
    "    game_file = _compile_test_game(game)\n",
    "    return game, game_file\n",
    "    "
   ]
  },
  {
   "cell_type": "code",
   "execution_count": 8,
   "metadata": {},
   "outputs": [
    {
     "name": "stderr",
     "output_type": "stream",
     "text": [
      "/media/nahian/Media/CORGI_Projects/Learning_from_story/LNFStories_gitrepo/Learning_from_stories_playground/textworld/generator/inform7/world2inform7.py:91: TextworldInform7Warning: Undefined Inform7's predicate: free(r, r)\n",
      "  warnings.warn(msg, TextworldInform7Warning)\n"
     ]
    }
   ],
   "source": [
    "game, game_file = build_and_compile_super_hero_game_1()"
   ]
  },
  {
   "cell_type": "code",
   "execution_count": null,
   "metadata": {},
   "outputs": [],
   "source": []
  },
  {
   "cell_type": "code",
   "execution_count": 1,
   "metadata": {},
   "outputs": [],
   "source": [
    "import textworld\n",
    "import textworld.gym\n",
    "import gym\n",
    "request_infos = textworld.EnvInfos(description=True, inventory=True, admissible_commands=True,won=True, lost=True)\n",
    "\n",
    "# Requesting additional information should be done when registering the game.\n",
    "env_id = textworld.gym.register_game('tw_games/super_hero_9.ulx', request_infos)\n",
    "env = gym.make(env_id)\n",
    "\n",
    "obs, infos = env.reset()"
   ]
  },
  {
   "cell_type": "code",
   "execution_count": 2,
   "metadata": {},
   "outputs": [
    {
     "name": "stdout",
     "output_type": "stream",
     "text": [
      "\n",
      "\n",
      "\n",
      "                    ________  ________  __    __  ________        \n",
      "                   |        \\|        \\|  \\  |  \\|        \\       \n",
      "                    \\$$$$$$$$| $$$$$$$$| $$  | $$ \\$$$$$$$$       \n",
      "                      | $$   | $$__     \\$$\\/  $$   | $$          \n",
      "                      | $$   | $$  \\     >$$  $$    | $$          \n",
      "                      | $$   | $$$$$    /  $$$$\\    | $$          \n",
      "                      | $$   | $$_____ |  $$ \\$$\\   | $$          \n",
      "                      | $$   | $$     \\| $$  | $$   | $$          \n",
      "                       \\$$    \\$$$$$$$$ \\$$   \\$$    \\$$          \n",
      "              __       __   ______   _______   __        _______  \n",
      "             |  \\  _  |  \\ /      \\ |       \\ |  \\      |       \\ \n",
      "             | $$ / \\ | $$|  $$$$$$\\| $$$$$$$\\| $$      | $$$$$$$\\\n",
      "             | $$/  $\\| $$| $$  | $$| $$__| $$| $$      | $$  | $$\n",
      "             | $$  $$$\\ $$| $$  | $$| $$    $$| $$      | $$  | $$\n",
      "             | $$ $$\\$$\\$$| $$  | $$| $$$$$$$\\| $$      | $$  | $$\n",
      "             | $$$$  \\$$$$| $$__/ $$| $$  | $$| $$_____ | $$__/ $$\n",
      "             | $$$    \\$$$ \\$$    $$| $$  | $$| $$     \\| $$    $$\n",
      "              \\$$      \\$$  \\$$$$$$  \\$$   \\$$ \\$$$$$$$$ \\$$$$$$$ \n",
      "\n",
      "\n",
      "\n",
      "-= Room A =-\n",
      "You are in a road. Some mobs are planning to rob a bank. You need to stop them. Go east to the alley. You can find a person in the alley who has information about the roberry. Collect information from him and prevent the roberry.\n",
      "\n",
      "> go east\n",
      "infos:  {'description': '-= Alley =-\\nThere is a person beside the table in the alley. You can find an oven here as well.\\n\\nThere is an informant on the floor.', 'inventory': 'You are carrying:\\n  a money', 'won': False, 'lost': False, 'admissible_commands': ['attack the informant', 'drop money', 'examine informant', 'give the informant some money', 'go east', 'go north', 'go south', 'go west', 'look', 'wait']}\n",
      "\n",
      "-= Alley =-\n",
      "There is a person beside the table in the alley. You can find an oven here as well.\n",
      "\n",
      "There is an informant on the floor.\n",
      "\n",
      "\n",
      "> give the informant some money\n",
      "infos:  {'description': '-= Alley =-\\nThere is a person beside the table in the alley. You can find an oven here as well.\\n\\nThere is an informant on the floor.', 'inventory': 'You are carrying:\\n  a money', 'won': False, 'lost': False, 'admissible_commands': ['ask the informant', 'examine informant', 'go east', 'go north', 'go south', 'go west', 'look', 'wait']}\n",
      "The informant is being given money.\n",
      "\n",
      "\n",
      "\n",
      "Played 2 steps, scoring 0 points.\n"
     ]
    }
   ],
   "source": [
    "try:\n",
    "    done = False\n",
    "    obs, _ = env.reset()\n",
    "    print(obs)\n",
    "    nb_moves = 0\n",
    "    while not done:\n",
    "        command = input(\"> \")\n",
    "        obs, score, done, infos = env.step(command)\n",
    "        print(\"infos: \",infos)\n",
    "        print(obs)\n",
    "        nb_moves += 1\n",
    "\n",
    "except KeyboardInterrupt:\n",
    "    pass  # Press the stop button in the toolbar to quit the game.\n",
    "\n",
    "print(\"Played {} steps, scoring {} points.\".format(nb_moves, score))"
   ]
  },
  {
   "cell_type": "code",
   "execution_count": 12,
   "metadata": {},
   "outputs": [],
   "source": [
    "import torch"
   ]
  },
  {
   "cell_type": "code",
   "execution_count": 37,
   "metadata": {},
   "outputs": [],
   "source": [
    "weights = torch.tensor([0, 10, 10, 90, 20, 30, 40, 11, 15], dtype=torch.float) # create a tensor of weights\n"
   ]
  },
  {
   "cell_type": "code",
   "execution_count": 38,
   "metadata": {},
   "outputs": [
    {
     "data": {
      "text/plain": [
       "tensor([5])"
      ]
     },
     "execution_count": 38,
     "metadata": {},
     "output_type": "execute_result"
    }
   ],
   "source": [
    "torch.multinomial(weights, 1)"
   ]
  },
  {
   "cell_type": "code",
   "execution_count": 27,
   "metadata": {},
   "outputs": [
    {
     "data": {
      "text/plain": [
       "0.11438585021230763"
      ]
     },
     "execution_count": 27,
     "metadata": {},
     "output_type": "execute_result"
    }
   ],
   "source": [
    "np.random.random()"
   ]
  },
  {
   "cell_type": "code",
   "execution_count": 44,
   "metadata": {},
   "outputs": [],
   "source": [
    "total_number = 0\n",
    "for i in range(1000):\n",
    "    rand_no = np.random.random()\n",
    "    if rand_no <= 0.3:\n",
    "        total_number += 1"
   ]
  },
  {
   "cell_type": "code",
   "execution_count": 45,
   "metadata": {},
   "outputs": [
    {
     "data": {
      "text/plain": [
       "294"
      ]
     },
     "execution_count": 45,
     "metadata": {},
     "output_type": "execute_result"
    }
   ],
   "source": [
    "total_number"
   ]
  },
  {
   "cell_type": "code",
   "execution_count": 60,
   "metadata": {},
   "outputs": [],
   "source": [
    "action_index = weights.multinomial(num_samples=1).unsqueeze(0)"
   ]
  },
  {
   "cell_type": "code",
   "execution_count": 61,
   "metadata": {},
   "outputs": [
    {
     "data": {
      "text/plain": [
       "tensor([[3]])"
      ]
     },
     "execution_count": 61,
     "metadata": {},
     "output_type": "execute_result"
    }
   ],
   "source": [
    "action_index"
   ]
  },
  {
   "cell_type": "code",
   "execution_count": 56,
   "metadata": {},
   "outputs": [],
   "source": [
    "action_index = weights.max(0).indices.unsqueeze(-1).unsqueeze(-1)"
   ]
  },
  {
   "cell_type": "code",
   "execution_count": 57,
   "metadata": {},
   "outputs": [
    {
     "data": {
      "text/plain": [
       "tensor([[3]])"
      ]
     },
     "execution_count": 57,
     "metadata": {},
     "output_type": "execute_result"
    }
   ],
   "source": [
    "action_index"
   ]
  },
  {
   "cell_type": "code",
   "execution_count": 75,
   "metadata": {},
   "outputs": [],
   "source": [
    "weights = torch.tensor([0.0988, 0.0988, 0.0988, 0.0993, 0.0988, 0.1004, 0.0989, 0.1062, 0.0988, 0.1015],dtype=torch.float)\n"
   ]
  },
  {
   "cell_type": "code",
   "execution_count": 76,
   "metadata": {},
   "outputs": [
    {
     "data": {
      "text/plain": [
       "tensor([6])"
      ]
     },
     "execution_count": 76,
     "metadata": {},
     "output_type": "execute_result"
    }
   ],
   "source": [
    "torch.multinomial(weights, 1)"
   ]
  },
  {
   "cell_type": "code",
   "execution_count": 77,
   "metadata": {},
   "outputs": [],
   "source": [
    "probs = torch.tensor([[[0.0988, 0.0988, 0.0988, 0.0993, 0.0988, 0.1004, 0.0989, 0.1062, 0.0988, 0.1015]]], dtype=torch.float)"
   ]
  },
  {
   "cell_type": "code",
   "execution_count": 78,
   "metadata": {},
   "outputs": [],
   "source": [
    "tp = np.random.choice(probs[0][0].detach().numpy())"
   ]
  },
  {
   "cell_type": "code",
   "execution_count": 79,
   "metadata": {},
   "outputs": [
    {
     "data": {
      "text/plain": [
       "0.0988"
      ]
     },
     "execution_count": 79,
     "metadata": {},
     "output_type": "execute_result"
    }
   ],
   "source": [
    "tp"
   ]
  },
  {
   "cell_type": "code",
   "execution_count": 80,
   "metadata": {},
   "outputs": [],
   "source": [
    "action_index = (probs[0][0] == tp).nonzero().unsqueeze(-1)"
   ]
  },
  {
   "cell_type": "code",
   "execution_count": 86,
   "metadata": {},
   "outputs": [],
   "source": [
    "_action_index = action_index[0]"
   ]
  },
  {
   "cell_type": "code",
   "execution_count": 89,
   "metadata": {},
   "outputs": [
    {
     "data": {
      "text/plain": [
       "tensor([[0],\n",
       "        [1],\n",
       "        [2],\n",
       "        [4],\n",
       "        [8]])"
      ]
     },
     "execution_count": 89,
     "metadata": {},
     "output_type": "execute_result"
    }
   ],
   "source": [
    "(probs[0][0] == tp).nonzero()"
   ]
  },
  {
   "cell_type": "code",
   "execution_count": 85,
   "metadata": {},
   "outputs": [
    {
     "data": {
      "text/plain": [
       "torch.Size([10])"
      ]
     },
     "execution_count": 85,
     "metadata": {},
     "output_type": "execute_result"
    }
   ],
   "source": [
    "probs[0][0].shape"
   ]
  },
  {
   "cell_type": "code",
   "execution_count": 88,
   "metadata": {},
   "outputs": [
    {
     "data": {
      "text/plain": [
       "torch.Size([1, 1])"
      ]
     },
     "execution_count": 88,
     "metadata": {},
     "output_type": "execute_result"
    }
   ],
   "source": [
    "_action_index.shape"
   ]
  },
  {
   "cell_type": "code",
   "execution_count": 106,
   "metadata": {},
   "outputs": [
    {
     "data": {
      "text/plain": [
       "tensor([[[4]]])"
      ]
     },
     "execution_count": 106,
     "metadata": {},
     "output_type": "execute_result"
    }
   ],
   "source": [
    "torch.randint(0, probs[0][0].shape[0], (1,)).unsqueeze(-1).unsqueeze(-1)"
   ]
  },
  {
   "cell_type": "code",
   "execution_count": 99,
   "metadata": {},
   "outputs": [
    {
     "data": {
      "text/plain": [
       "10"
      ]
     },
     "execution_count": 99,
     "metadata": {},
     "output_type": "execute_result"
    }
   ],
   "source": [
    "probs[0][0].shape[0]"
   ]
  },
  {
   "cell_type": "code",
   "execution_count": null,
   "metadata": {},
   "outputs": [],
   "source": []
  }
 ],
 "metadata": {
  "kernelspec": {
   "display_name": "Python 3",
   "language": "python",
   "name": "python3"
  },
  "language_info": {
   "codemirror_mode": {
    "name": "ipython",
    "version": 3
   },
   "file_extension": ".py",
   "mimetype": "text/x-python",
   "name": "python",
   "nbconvert_exporter": "python",
   "pygments_lexer": "ipython3",
   "version": "3.7.6"
  }
 },
 "nbformat": 4,
 "nbformat_minor": 2
}
